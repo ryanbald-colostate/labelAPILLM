{
 "cells": [
  {
   "cell_type": "code",
   "execution_count": 1,
   "id": "5a158ce7",
   "metadata": {
    "scrolled": true
   },
   "outputs": [],
   "source": [
    "import json\n",
    "import pandas as pd\n",
    "import os"
   ]
  },
  {
   "cell_type": "markdown",
   "id": "5754cd5b",
   "metadata": {},
   "source": [
    "### Load domain and subdomain labels\n",
    "Load in domain and subdomain labels from the json files using some functions. These will be used to create the prompts sent to the LLM. Domain will generate classes for the expert column, subdomain will generate labels for the sub-expert column."
   ]
  },
  {
   "cell_type": "code",
   "execution_count": 2,
   "id": "6d465e57",
   "metadata": {
    "scrolled": true
   },
   "outputs": [],
   "source": [
    "with open('./data/domain_labels.json', 'r') as f:\n",
    "    domain_json = json.load(f) \n",
    "with open('./data/subdomain_labels.json', 'r') as f:\n",
    "    subdomain_json = json.load(f)"
   ]
  },
  {
   "cell_type": "code",
   "execution_count": 3,
   "id": "01297c72",
   "metadata": {
    "scrolled": true
   },
   "outputs": [
    {
     "data": {
      "text/plain": [
       "str"
      ]
     },
     "execution_count": 3,
     "metadata": {},
     "output_type": "execute_result"
    }
   ],
   "source": [
    "type(list(subdomain_json['Application'][0].keys())[0]) #use these cells to explore the json data if need be."
   ]
  },
  {
   "cell_type": "code",
   "execution_count": 4,
   "id": "215ec5af",
   "metadata": {
    "scrolled": true
   },
   "outputs": [
    {
     "name": "stdout",
     "output_type": "stream",
     "text": [
      "Integration\n"
     ]
    }
   ],
   "source": [
    "print(list(subdomain_json['Application'][0].keys())[0])"
   ]
  },
  {
   "cell_type": "code",
   "execution_count": 5,
   "id": "72cd816c",
   "metadata": {
    "scrolled": true
   },
   "outputs": [],
   "source": [
    "def create_domains_list(domain_json):\n",
    "    domains = []\n",
    "    items_list = domain_json[\"Items\"]\n",
    "    \n",
    "    for i in range(len(items_list)):\n",
    "        domains.append(list(items_list[i].keys())[0]) #looks strange because the data type keeps swapping dict and list.\n",
    "        \n",
    "    return domains"
   ]
  },
  {
   "cell_type": "code",
   "execution_count": 6,
   "id": "686595ae",
   "metadata": {
    "scrolled": true
   },
   "outputs": [],
   "source": [
    "def create_subdomains_dict(subdomain_json, domains):\n",
    "    subdomains = {}\n",
    "    \n",
    "    for domain in domains:\n",
    "        items_list = subdomain_json[domain]\n",
    "        subdomain_list = []\n",
    "        \n",
    "        for i in range(len(items_list)):\n",
    "            subdomain_list.append(list(items_list[i].keys())[0])\n",
    "            \n",
    "        subdomains.update({domain : subdomain_list})\n",
    "    \n",
    "    return subdomains"
   ]
  },
  {
   "cell_type": "code",
   "execution_count": 7,
   "id": "603889ca",
   "metadata": {
    "scrolled": true
   },
   "outputs": [],
   "source": [
    "domains = create_domains_list(domain_json)"
   ]
  },
  {
   "cell_type": "code",
   "execution_count": 8,
   "id": "34b8da4b",
   "metadata": {
    "scrolled": true
   },
   "outputs": [],
   "source": [
    "subdomains = create_subdomains_dict(subdomain_json, domains)"
   ]
  },
  {
   "cell_type": "code",
   "execution_count": 9,
   "id": "be0e8e86",
   "metadata": {
    "scrolled": false
   },
   "outputs": [
    {
     "name": "stdout",
     "output_type": "stream",
     "text": [
      "['Application', 'Application Performance Manager', 'Big Data', 'Cloud', 'Computer Graphics', 'Data Structure', 'Databases', 'DevOps', 'Error Handling', 'Event Handling', 'Geographic Information System', 'Input-Output', 'Interpreter', 'Internationalization', 'Logic', 'Language', 'Logging', 'Machine Learning', 'Microservices/Services', 'Multimedia', 'Multi-Thread', 'Natural Language Processing', 'Network', 'Operating System', 'Parser', 'Search', 'Security', 'Setup', 'User Interface', 'Utility', 'Test']\n"
     ]
    }
   ],
   "source": [
    "print(domains)"
   ]
  },
  {
   "cell_type": "code",
   "execution_count": 10,
   "id": "f70eba4c",
   "metadata": {
    "scrolled": true
   },
   "outputs": [
    {
     "name": "stdout",
     "output_type": "stream",
     "text": [
      "Domain: Application\n",
      "Subdomains(6): Integration, Plugin Management, User Customization, App Configuration, Version Control, Compatibility Checks\n",
      "\n",
      "Domain: Application Performance Manager\n",
      "Subdomains(6): Performance Monitoring, Resource Allocation, Error Detection, Load Balancing, Traffic Management, Diagnostic Tools\n",
      "\n",
      "Domain: Big Data\n",
      "Subdomains(6): Data Processing, Data Storage, Data Analysis, Real-Time Processing, Batch Processing, Data Visualization\n",
      "\n",
      "Domain: Cloud\n",
      "Subdomains(6): Resource Management, Virtualization, Scalability Solutions, Cloud Security, Data Migration, Service Configuration\n",
      "\n",
      "Domain: Computer Graphics\n",
      "Subdomains(6): Image Rendering, Animation, Modeling, Texture Mapping, Visual Effects, Graphics Optimization\n",
      "\n",
      "Domain: Data Structure\n",
      "Subdomains(6): Linear Structures, Tree Structures, Graph Structures, Data Sorting, Search Algorithms, Data Manipulation\n",
      "\n",
      "Domain: Databases\n",
      "Subdomains(6): Query Execution, Transaction Management, Schema Design, Database Security, Backup and Recovery, Database Optimization\n",
      "\n",
      "Domain: DevOps\n",
      "Subdomains(6): Continuous Integration, Continuous Deployment, Automated Testing, Configuration Management, Version Control, Monitoring and Logging\n",
      "\n",
      "Domain: Error Handling\n",
      "Subdomains(6): Exception Handling, Error Logging, Fault Tolerance, Debugging Tools, User Notification, Error Prevention\n",
      "\n",
      "Domain: Event Handling\n",
      "Subdomains(6): User Interactions, System Events, Event Logging, Event Driven Processing, Notifications, Asynchronous Processing\n",
      "\n",
      "Domain: Geographic Information System\n",
      "Subdomains(6): Mapping, Spatial Analysis, Data Collection, Geographic Visualization, Location Services, Environmental Modeling\n",
      "\n",
      "Domain: Input-Output\n",
      "Subdomains(6): Data Reading, Data Writing, Stream Management, Buffering Strategies, File Management, Network IO\n",
      "\n",
      "Domain: Interpreter\n",
      "Subdomains(6): Script Execution, Code Translation, Memory Management, Syntax Analysis, Optimization, Debugging\n",
      "\n",
      "Domain: Internationalization\n",
      "Subdomains(6): Localization, Language Support, Cultural Adaptation, Currency Conversion, Date/Time Formatting, Right-to-Left Layouts\n",
      "\n",
      "Domain: Logic\n",
      "Subdomains(6): Control Structures, Algorithm Implementation, Logic Optimization, Validation Checks, Rule Processing, Decision Making\n",
      "\n",
      "Domain: Language\n",
      "Subdomains(6): Syntax Features, Compiler/Interpreter Enhancements, Runtime Optimization, Standard Libraries, Language Extensions, Type Systems\n",
      "\n",
      "Domain: Logging\n",
      "Subdomains(6): Event Logging, System Monitoring, Performance Tracking, Error Logs, User Activity Logs, Audit Trails\n",
      "\n",
      "Domain: Machine Learning\n",
      "Subdomains(6): Training Models, Prediction, Data Preprocessing, Feature Extraction, Model Evaluation, Deployment\n",
      "\n",
      "Domain: Microservices/Services\n",
      "Subdomains(6): Service Discovery, Load Balancing, API Gateway, Service Communication, Fault Tolerance, Service Deployment\n",
      "\n",
      "Domain: Multimedia\n",
      "Subdomains(6): Media Playback, Media Editing, Encoding and Decoding, Streaming, Content Delivery, Media Storage\n",
      "\n",
      "Domain: Multi-Thread\n",
      "Subdomains(6): Concurrency Control, Synchronization, Thread Safety, Parallel Processing, Resource Sharing, Deadlock Resolution\n",
      "\n",
      "Domain: Natural Language Processing\n",
      "Subdomains(6): Text Analysis, Speech Recognition, Language Generation, Sentiment Analysis, Machine Translation, Chatbot Interfaces\n",
      "\n",
      "Domain: Network\n",
      "Subdomains(6): Protocol Implementation, Connection Management, Data Transmission, Network Security, Bandwidth Optimization, Network Monitoring\n",
      "\n",
      "Domain: Operating System\n",
      "Subdomains(6): Process Management, Memory Management, Device Drivers, File Systems, User Interface, System Security\n",
      "\n",
      "Domain: Parser\n",
      "Subdomains(6): Syntax Parsing, Error Recovery, Data Conversion, Optimization, Code Generation, Validation\n",
      "\n",
      "Domain: Search\n",
      "Subdomains(6): Indexing, Query Processing, Ranking, Optimization, Caching, Personalization\n",
      "\n",
      "Domain: Security\n",
      "Subdomains(6): Authentication, Authorization, Encryption, Intrusion Detection, Compliance, Data Integrity\n",
      "\n",
      "Domain: Setup\n",
      "Subdomains(6): Installation, Configuration, System Requirements, Update Management, Licensing, Environment Setup\n",
      "\n",
      "Domain: User Interface\n",
      "Subdomains(6): Layout Design, Interaction Design, Accessibility, Animation, Responsive Design, User Feedback\n",
      "\n",
      "Domain: Utility\n",
      "Subdomains(6): Data Conversion, System Tools, Automation Scripts, Performance Tools, Diagnostic Utilities, Backup Tools\n",
      "\n",
      "Domain: Test\n",
      "Subdomains(6): Unit Testing, Integration Testing, Performance Testing, Security Testing, Usability Testing, Regression Testing\n",
      "\n"
     ]
    }
   ],
   "source": [
    "for domain in domains:\n",
    "    print((\"Domain: \" + domain + '\\nSubdomains(%d): ' + ', '.join(subdomains[domain]) + '\\n') % (len(subdomains[domain])))"
   ]
  },
  {
   "cell_type": "markdown",
   "id": "fc3088d9",
   "metadata": {},
   "source": [
    "### Setup OpenAI API Key\n",
    "Make sure the api key is functioning. One response should be extremely cheap."
   ]
  },
  {
   "cell_type": "code",
   "execution_count": 11,
   "id": "fca1de8b",
   "metadata": {
    "scrolled": true
   },
   "outputs": [],
   "source": [
    "api_key = os.getenv(\"OPENAI_API_KEY\")"
   ]
  },
  {
   "cell_type": "code",
   "execution_count": 12,
   "id": "451afccb",
   "metadata": {
    "scrolled": true
   },
   "outputs": [],
   "source": [
    "from langchain_openai import ChatOpenAI"
   ]
  },
  {
   "cell_type": "code",
   "execution_count": 13,
   "id": "f60b6b50",
   "metadata": {
    "scrolled": true
   },
   "outputs": [],
   "source": [
    "test_llm = ChatOpenAI(temperature=0, api_key=api_key)"
   ]
  },
  {
   "cell_type": "code",
   "execution_count": 14,
   "id": "8b83dd39",
   "metadata": {
    "scrolled": true
   },
   "outputs": [],
   "source": [
    "response = test_llm.invoke(\"Test prompt, only reply True\") #if no error is thrown, api key works"
   ]
  },
  {
   "cell_type": "code",
   "execution_count": 15,
   "id": "2c4bcfcc",
   "metadata": {
    "scrolled": true
   },
   "outputs": [
    {
     "name": "stdout",
     "output_type": "stream",
     "text": [
      "content='True' additional_kwargs={'refusal': None} response_metadata={'token_usage': {'completion_tokens': 1, 'prompt_tokens': 13, 'total_tokens': 14, 'completion_tokens_details': {'accepted_prediction_tokens': 0, 'audio_tokens': 0, 'reasoning_tokens': 0, 'rejected_prediction_tokens': 0}, 'prompt_tokens_details': {'audio_tokens': 0, 'cached_tokens': 0}}, 'model_name': 'gpt-3.5-turbo-0125', 'system_fingerprint': None, 'id': 'chatcmpl-BpfYUKMOskgyZUG9ZRHTe9Axefba7', 'service_tier': 'default', 'finish_reason': 'stop', 'logprobs': None} id='run--be8cd9fc-af1a-4ede-afb7-5c0f6d95a214-0' usage_metadata={'input_tokens': 13, 'output_tokens': 1, 'total_tokens': 14, 'input_token_details': {'audio': 0, 'cache_read': 0}, 'output_token_details': {'audio': 0, 'reasoning': 0}}\n"
     ]
    }
   ],
   "source": [
    "print(response)"
   ]
  },
  {
   "cell_type": "code",
   "execution_count": 16,
   "id": "9ddf574f",
   "metadata": {
    "scrolled": true
   },
   "outputs": [
    {
     "name": "stdout",
     "output_type": "stream",
     "text": [
      "True\n"
     ]
    }
   ],
   "source": [
    "print(response.content)"
   ]
  },
  {
   "cell_type": "code",
   "execution_count": 17,
   "id": "36c13f63",
   "metadata": {
    "scrolled": true
   },
   "outputs": [
    {
     "name": "stdout",
     "output_type": "stream",
     "text": [
      "{'token_usage': {'completion_tokens': 1, 'prompt_tokens': 13, 'total_tokens': 14, 'completion_tokens_details': {'accepted_prediction_tokens': 0, 'audio_tokens': 0, 'reasoning_tokens': 0, 'rejected_prediction_tokens': 0}, 'prompt_tokens_details': {'audio_tokens': 0, 'cached_tokens': 0}}, 'model_name': 'gpt-3.5-turbo-0125', 'system_fingerprint': None, 'id': 'chatcmpl-BpfYUKMOskgyZUG9ZRHTe9Axefba7', 'service_tier': 'default', 'finish_reason': 'stop', 'logprobs': None}\n"
     ]
    }
   ],
   "source": [
    "print(response.response_metadata)"
   ]
  },
  {
   "cell_type": "code",
   "execution_count": 18,
   "id": "d56fdd17",
   "metadata": {},
   "outputs": [
    {
     "name": "stdout",
     "output_type": "stream",
     "text": [
      "<class 'int'>\n"
     ]
    }
   ],
   "source": [
    "print(type(response.response_metadata['token_usage']['completion_tokens']))"
   ]
  },
  {
   "cell_type": "markdown",
   "id": "ac81cc41",
   "metadata": {},
   "source": [
    "### Generate Promts\n",
    "We will start with a base promt. The goal is to append the list of labels and let the library name be inserted into the prompt.\\\n",
    "Be sure to practice and test the prompts in the free browser based version.\\\n",
    "Prompts will need to be updated as the models update or with a change of model."
   ]
  },
  {
   "cell_type": "code",
   "execution_count": 19,
   "id": "2f705a2d",
   "metadata": {
    "scrolled": true
   },
   "outputs": [],
   "source": [
    "domain_base_prompt = \"Categorize the library \\\"%s\\\" into only one of the domains, without explaining the result: \""
   ]
  },
  {
   "cell_type": "code",
   "execution_count": 20,
   "id": "f94f7473",
   "metadata": {
    "scrolled": true
   },
   "outputs": [],
   "source": [
    "domain_prompt = domain_base_prompt + \", \".join(domains)"
   ]
  },
  {
   "cell_type": "code",
   "execution_count": 21,
   "id": "35ecc89f",
   "metadata": {
    "scrolled": false
   },
   "outputs": [
    {
     "name": "stdout",
     "output_type": "stream",
     "text": [
      "Categorize the library \"example.library\" into only one of the domains, without explaining the result: Application, Application Performance Manager, Big Data, Cloud, Computer Graphics, Data Structure, Databases, DevOps, Error Handling, Event Handling, Geographic Information System, Input-Output, Interpreter, Internationalization, Logic, Language, Logging, Machine Learning, Microservices/Services, Multimedia, Multi-Thread, Natural Language Processing, Network, Operating System, Parser, Search, Security, Setup, User Interface, Utility, Test\n"
     ]
    }
   ],
   "source": [
    "print(domain_prompt % \"example.library\")"
   ]
  },
  {
   "cell_type": "code",
   "execution_count": 22,
   "id": "4c1b6cbf",
   "metadata": {
    "scrolled": true
   },
   "outputs": [],
   "source": [
    "subdomain_base_prompt = \"Given that the domain is \\\"%s\\\", categorize the library \\\"%s\\\" into one of the subdomains, without explaining the result: \""
   ]
  },
  {
   "cell_type": "code",
   "execution_count": 23,
   "id": "560f819b",
   "metadata": {
    "scrolled": true
   },
   "outputs": [],
   "source": [
    "def generate_subdomain_prompt(base_prompt, domain):\n",
    "    if domain not in domains: \n",
    "        #Error check should be performed outside this function but this will minimize cost if something goes wrong.\n",
    "        return \"Only reply PromptError\"\n",
    "    \n",
    "    prompt = base_prompt + \", \".join(subdomains[domain])\n",
    "    return prompt % (domain, \"%s\")\n",
    "    "
   ]
  },
  {
   "cell_type": "code",
   "execution_count": 24,
   "id": "e754c257",
   "metadata": {
    "scrolled": false
   },
   "outputs": [
    {
     "name": "stdout",
     "output_type": "stream",
     "text": [
      "Given that the domain is \"Test\", categorize the library \"example.library\" into one of the subdomains, without explaining the result: Unit Testing, Integration Testing, Performance Testing, Security Testing, Usability Testing, Regression Testing\n"
     ]
    }
   ],
   "source": [
    "print(generate_subdomain_prompt(subdomain_base_prompt, \"Test\") % \"example.library\")"
   ]
  },
  {
   "cell_type": "markdown",
   "id": "df356051",
   "metadata": {},
   "source": [
    "### Setup dataframe\n",
    "Import API_specific.csv, exported from PostgreSQL.\\\n",
    "small_LLM will create a small copy to test with."
   ]
  },
  {
   "cell_type": "code",
   "execution_count": 25,
   "id": "368c09d2",
   "metadata": {
    "scrolled": true
   },
   "outputs": [],
   "source": [
    "columns = ['general', 'specific', 'api_name_fk', 'expert', 'sub_expert']\n",
    "API_specific = pd.read_csv(\"./data/input/API_specific.csv\", header=\"infer\", names=columns)"
   ]
  },
  {
   "cell_type": "code",
   "execution_count": 26,
   "id": "6034ae10",
   "metadata": {
    "scrolled": false
   },
   "outputs": [
    {
     "name": "stdout",
     "output_type": "stream",
     "text": [
      "(2531, 5)\n"
     ]
    },
    {
     "data": {
      "text/html": [
       "<div>\n",
       "<style scoped>\n",
       "    .dataframe tbody tr th:only-of-type {\n",
       "        vertical-align: middle;\n",
       "    }\n",
       "\n",
       "    .dataframe tbody tr th {\n",
       "        vertical-align: top;\n",
       "    }\n",
       "\n",
       "    .dataframe thead th {\n",
       "        text-align: right;\n",
       "    }\n",
       "</style>\n",
       "<table border=\"1\" class=\"dataframe\">\n",
       "  <thead>\n",
       "    <tr style=\"text-align: right;\">\n",
       "      <th></th>\n",
       "      <th>general</th>\n",
       "      <th>specific</th>\n",
       "      <th>api_name_fk</th>\n",
       "      <th>expert</th>\n",
       "      <th>sub_expert</th>\n",
       "    </tr>\n",
       "  </thead>\n",
       "  <tbody>\n",
       "    <tr>\n",
       "      <th>0</th>\n",
       "      <td>r</td>\n",
       "      <td>r</td>\n",
       "      <td>r.fileformat</td>\n",
       "      <td>NaN</td>\n",
       "      <td>NaN</td>\n",
       "    </tr>\n",
       "    <tr>\n",
       "      <th>1</th>\n",
       "      <td>r</td>\n",
       "      <td>r</td>\n",
       "      <td>r.util</td>\n",
       "      <td>NaN</td>\n",
       "      <td>NaN</td>\n",
       "    </tr>\n",
       "    <tr>\n",
       "      <th>2</th>\n",
       "      <td>r</td>\n",
       "      <td>fetcher</td>\n",
       "      <td>r.fetcher.citation.semanticscholar</td>\n",
       "      <td>NaN</td>\n",
       "      <td>NaN</td>\n",
       "    </tr>\n",
       "    <tr>\n",
       "      <th>3</th>\n",
       "      <td>r</td>\n",
       "      <td>r</td>\n",
       "      <td>r.fetcher</td>\n",
       "      <td>NaN</td>\n",
       "      <td>NaN</td>\n",
       "    </tr>\n",
       "    <tr>\n",
       "      <th>4</th>\n",
       "      <td>r</td>\n",
       "      <td>fetcher</td>\n",
       "      <td>r.fetcher.citation</td>\n",
       "      <td>NaN</td>\n",
       "      <td>NaN</td>\n",
       "    </tr>\n",
       "  </tbody>\n",
       "</table>\n",
       "</div>"
      ],
      "text/plain": [
       "  general specific                         api_name_fk  expert  sub_expert\n",
       "0       r        r                        r.fileformat     NaN         NaN\n",
       "1       r        r                              r.util     NaN         NaN\n",
       "2       r  fetcher  r.fetcher.citation.semanticscholar     NaN         NaN\n",
       "3       r        r                           r.fetcher     NaN         NaN\n",
       "4       r  fetcher                  r.fetcher.citation     NaN         NaN"
      ]
     },
     "execution_count": 26,
     "metadata": {},
     "output_type": "execute_result"
    }
   ],
   "source": [
    "print(API_specific.shape)\n",
    "API_specific.head()"
   ]
  },
  {
   "cell_type": "code",
   "execution_count": 27,
   "id": "4f5e740e",
   "metadata": {},
   "outputs": [
    {
     "name": "stdout",
     "output_type": "stream",
     "text": [
      "[20, 40, 60, 80, 100, 120, 140, 160, 180, 200]\n"
     ]
    }
   ],
   "source": [
    "elements = [20 * (i + 1) for i in range(10)]\n",
    "print(elements)"
   ]
  },
  {
   "cell_type": "code",
   "execution_count": 28,
   "id": "0519dbd4",
   "metadata": {
    "scrolled": true
   },
   "outputs": [],
   "source": [
    "small_df = API_specific.iloc[elements]"
   ]
  },
  {
   "cell_type": "code",
   "execution_count": 29,
   "id": "d48aa7e6",
   "metadata": {
    "scrolled": false
   },
   "outputs": [
    {
     "data": {
      "text/html": [
       "<div>\n",
       "<style scoped>\n",
       "    .dataframe tbody tr th:only-of-type {\n",
       "        vertical-align: middle;\n",
       "    }\n",
       "\n",
       "    .dataframe tbody tr th {\n",
       "        vertical-align: top;\n",
       "    }\n",
       "\n",
       "    .dataframe thead th {\n",
       "        text-align: right;\n",
       "    }\n",
       "</style>\n",
       "<table border=\"1\" class=\"dataframe\">\n",
       "  <thead>\n",
       "    <tr style=\"text-align: right;\">\n",
       "      <th></th>\n",
       "      <th>general</th>\n",
       "      <th>specific</th>\n",
       "      <th>api_name_fk</th>\n",
       "      <th>expert</th>\n",
       "      <th>sub_expert</th>\n",
       "    </tr>\n",
       "  </thead>\n",
       "  <tbody>\n",
       "    <tr>\n",
       "      <th>20</th>\n",
       "      <td>gui</td>\n",
       "      <td>preferences</td>\n",
       "      <td>org.jabref.gui.preferences.JabRefGuiPreferences</td>\n",
       "      <td>NaN</td>\n",
       "      <td>NaN</td>\n",
       "    </tr>\n",
       "    <tr>\n",
       "      <th>40</th>\n",
       "      <td>dev</td>\n",
       "      <td>langchain4j</td>\n",
       "      <td>dev.langchain4j.data.document.DefaultDocument</td>\n",
       "      <td>NaN</td>\n",
       "      <td>NaN</td>\n",
       "    </tr>\n",
       "    <tr>\n",
       "      <th>60</th>\n",
       "      <td>logic</td>\n",
       "      <td>l10n</td>\n",
       "      <td>org.jabref.logic.l10n.Localization</td>\n",
       "      <td>NaN</td>\n",
       "      <td>NaN</td>\n",
       "    </tr>\n",
       "    <tr>\n",
       "      <th>80</th>\n",
       "      <td>util</td>\n",
       "      <td>util</td>\n",
       "      <td>java.util.Optional</td>\n",
       "      <td>NaN</td>\n",
       "      <td>NaN</td>\n",
       "    </tr>\n",
       "    <tr>\n",
       "      <th>100</th>\n",
       "      <td>javafx</td>\n",
       "      <td>scene</td>\n",
       "      <td>javafx.scene.input.ClipboardContent</td>\n",
       "      <td>NaN</td>\n",
       "      <td>NaN</td>\n",
       "    </tr>\n",
       "    <tr>\n",
       "      <th>120</th>\n",
       "      <td>javafx</td>\n",
       "      <td>scene</td>\n",
       "      <td>javafx.scene.layout.Background</td>\n",
       "      <td>NaN</td>\n",
       "      <td>NaN</td>\n",
       "    </tr>\n",
       "    <tr>\n",
       "      <th>140</th>\n",
       "      <td>logic</td>\n",
       "      <td>preview</td>\n",
       "      <td>org.jabref.logic.preview.PreviewLayout</td>\n",
       "      <td>NaN</td>\n",
       "      <td>NaN</td>\n",
       "    </tr>\n",
       "    <tr>\n",
       "      <th>160</th>\n",
       "      <td>javafx</td>\n",
       "      <td>scene</td>\n",
       "      <td>javafx.scene.Group</td>\n",
       "      <td>NaN</td>\n",
       "      <td>NaN</td>\n",
       "    </tr>\n",
       "    <tr>\n",
       "      <th>180</th>\n",
       "      <td>io</td>\n",
       "      <td>github</td>\n",
       "      <td>io.github.adr.linked.ADR</td>\n",
       "      <td>NaN</td>\n",
       "      <td>NaN</td>\n",
       "    </tr>\n",
       "    <tr>\n",
       "      <th>200</th>\n",
       "      <td>javafx</td>\n",
       "      <td>scene</td>\n",
       "      <td>javafx.scene.Scene</td>\n",
       "      <td>NaN</td>\n",
       "      <td>NaN</td>\n",
       "    </tr>\n",
       "  </tbody>\n",
       "</table>\n",
       "</div>"
      ],
      "text/plain": [
       "    general     specific                                      api_name_fk  \\\n",
       "20      gui  preferences  org.jabref.gui.preferences.JabRefGuiPreferences   \n",
       "40      dev  langchain4j    dev.langchain4j.data.document.DefaultDocument   \n",
       "60    logic         l10n               org.jabref.logic.l10n.Localization   \n",
       "80     util         util                               java.util.Optional   \n",
       "100  javafx        scene              javafx.scene.input.ClipboardContent   \n",
       "120  javafx        scene                   javafx.scene.layout.Background   \n",
       "140   logic      preview           org.jabref.logic.preview.PreviewLayout   \n",
       "160  javafx        scene                               javafx.scene.Group   \n",
       "180      io       github                         io.github.adr.linked.ADR   \n",
       "200  javafx        scene                               javafx.scene.Scene   \n",
       "\n",
       "     expert  sub_expert  \n",
       "20      NaN         NaN  \n",
       "40      NaN         NaN  \n",
       "60      NaN         NaN  \n",
       "80      NaN         NaN  \n",
       "100     NaN         NaN  \n",
       "120     NaN         NaN  \n",
       "140     NaN         NaN  \n",
       "160     NaN         NaN  \n",
       "180     NaN         NaN  \n",
       "200     NaN         NaN  "
      ]
     },
     "execution_count": 29,
     "metadata": {},
     "output_type": "execute_result"
    }
   ],
   "source": [
    "small_df"
   ]
  },
  {
   "cell_type": "markdown",
   "id": "c8a00ccf",
   "metadata": {},
   "source": [
    "### Test Calls\n",
    "Use this to understand how the dataframes will work and the general structure of the LLM calls."
   ]
  },
  {
   "cell_type": "code",
   "execution_count": 30,
   "id": "da6ff020",
   "metadata": {
    "scrolled": true
   },
   "outputs": [],
   "source": [
    "info = {'calls_made': 0}\n",
    "\n",
    "def test_domain_call(api_name, printing):\n",
    "    prompt = domain_prompt % api_name\n",
    "    response_content = \"Application\"\n",
    "    \n",
    "    if(printing):\n",
    "        #prints various info from the response\n",
    "        print(\"api name: \" + api_name)\n",
    "        print(\"label: \" + response_content)\n",
    "        print(\"total tokens: \")\n",
    "        print()\n",
    "        \n",
    "    info['calls_made'] += 1\n",
    "    return response_content\n",
    "\n",
    "def test_subdomain_call(api_name, domain, printing):\n",
    "    subdomain_prompt = generate_subdomain_prompt(subdomain_base_prompt, domain)\n",
    "    prompt = subdomain_prompt % api_name\n",
    "    response_content = \"Application Subdomain\"\n",
    "    \n",
    "    if(printing):\n",
    "        print(\"api name: \" + api_name)\n",
    "        print(\"domain: \" + domain)\n",
    "        print(\"label: \" + response_content)\n",
    "        print(\"total tokens: \")\n",
    "        print()\n",
    "    \n",
    "    info['calls_made'] += 1\n",
    "    return response_content\n",
    "\n",
    "def generate_test_labels(small_df, printing=True):\n",
    "    df = small_df.head(10) #ensures small size\n",
    "    info['calls_made'] = 0\n",
    "    \n",
    "    df.loc[:, 'expert'] = df['api_name_fk'].apply(test_domain_call, printing=printing)\n",
    "    df.loc[:, 'sub_expert'] = df.apply(lambda row: test_subdomain_call(row['api_name_fk'], row['expert'], printing), axis=1)\n",
    "    \n",
    "    print(\"Finished.\")\n",
    "    print(\"Calls made: \" + str(info['calls_made']))\n",
    "    return df"
   ]
  },
  {
   "cell_type": "code",
   "execution_count": 31,
   "id": "d42163e5",
   "metadata": {
    "scrolled": true
   },
   "outputs": [
    {
     "name": "stdout",
     "output_type": "stream",
     "text": [
      "Finished.\n",
      "Calls made: 20\n"
     ]
    }
   ],
   "source": [
    "test_labeled = generate_test_labels(small_df, printing=False)"
   ]
  },
  {
   "cell_type": "code",
   "execution_count": 32,
   "id": "113b5bd4",
   "metadata": {},
   "outputs": [
    {
     "data": {
      "text/html": [
       "<div>\n",
       "<style scoped>\n",
       "    .dataframe tbody tr th:only-of-type {\n",
       "        vertical-align: middle;\n",
       "    }\n",
       "\n",
       "    .dataframe tbody tr th {\n",
       "        vertical-align: top;\n",
       "    }\n",
       "\n",
       "    .dataframe thead th {\n",
       "        text-align: right;\n",
       "    }\n",
       "</style>\n",
       "<table border=\"1\" class=\"dataframe\">\n",
       "  <thead>\n",
       "    <tr style=\"text-align: right;\">\n",
       "      <th></th>\n",
       "      <th>general</th>\n",
       "      <th>specific</th>\n",
       "      <th>api_name_fk</th>\n",
       "      <th>expert</th>\n",
       "      <th>sub_expert</th>\n",
       "    </tr>\n",
       "  </thead>\n",
       "  <tbody>\n",
       "    <tr>\n",
       "      <th>20</th>\n",
       "      <td>gui</td>\n",
       "      <td>preferences</td>\n",
       "      <td>org.jabref.gui.preferences.JabRefGuiPreferences</td>\n",
       "      <td>Application</td>\n",
       "      <td>Application Subdomain</td>\n",
       "    </tr>\n",
       "    <tr>\n",
       "      <th>40</th>\n",
       "      <td>dev</td>\n",
       "      <td>langchain4j</td>\n",
       "      <td>dev.langchain4j.data.document.DefaultDocument</td>\n",
       "      <td>Application</td>\n",
       "      <td>Application Subdomain</td>\n",
       "    </tr>\n",
       "    <tr>\n",
       "      <th>60</th>\n",
       "      <td>logic</td>\n",
       "      <td>l10n</td>\n",
       "      <td>org.jabref.logic.l10n.Localization</td>\n",
       "      <td>Application</td>\n",
       "      <td>Application Subdomain</td>\n",
       "    </tr>\n",
       "    <tr>\n",
       "      <th>80</th>\n",
       "      <td>util</td>\n",
       "      <td>util</td>\n",
       "      <td>java.util.Optional</td>\n",
       "      <td>Application</td>\n",
       "      <td>Application Subdomain</td>\n",
       "    </tr>\n",
       "    <tr>\n",
       "      <th>100</th>\n",
       "      <td>javafx</td>\n",
       "      <td>scene</td>\n",
       "      <td>javafx.scene.input.ClipboardContent</td>\n",
       "      <td>Application</td>\n",
       "      <td>Application Subdomain</td>\n",
       "    </tr>\n",
       "    <tr>\n",
       "      <th>120</th>\n",
       "      <td>javafx</td>\n",
       "      <td>scene</td>\n",
       "      <td>javafx.scene.layout.Background</td>\n",
       "      <td>Application</td>\n",
       "      <td>Application Subdomain</td>\n",
       "    </tr>\n",
       "    <tr>\n",
       "      <th>140</th>\n",
       "      <td>logic</td>\n",
       "      <td>preview</td>\n",
       "      <td>org.jabref.logic.preview.PreviewLayout</td>\n",
       "      <td>Application</td>\n",
       "      <td>Application Subdomain</td>\n",
       "    </tr>\n",
       "    <tr>\n",
       "      <th>160</th>\n",
       "      <td>javafx</td>\n",
       "      <td>scene</td>\n",
       "      <td>javafx.scene.Group</td>\n",
       "      <td>Application</td>\n",
       "      <td>Application Subdomain</td>\n",
       "    </tr>\n",
       "    <tr>\n",
       "      <th>180</th>\n",
       "      <td>io</td>\n",
       "      <td>github</td>\n",
       "      <td>io.github.adr.linked.ADR</td>\n",
       "      <td>Application</td>\n",
       "      <td>Application Subdomain</td>\n",
       "    </tr>\n",
       "    <tr>\n",
       "      <th>200</th>\n",
       "      <td>javafx</td>\n",
       "      <td>scene</td>\n",
       "      <td>javafx.scene.Scene</td>\n",
       "      <td>Application</td>\n",
       "      <td>Application Subdomain</td>\n",
       "    </tr>\n",
       "  </tbody>\n",
       "</table>\n",
       "</div>"
      ],
      "text/plain": [
       "    general     specific                                      api_name_fk  \\\n",
       "20      gui  preferences  org.jabref.gui.preferences.JabRefGuiPreferences   \n",
       "40      dev  langchain4j    dev.langchain4j.data.document.DefaultDocument   \n",
       "60    logic         l10n               org.jabref.logic.l10n.Localization   \n",
       "80     util         util                               java.util.Optional   \n",
       "100  javafx        scene              javafx.scene.input.ClipboardContent   \n",
       "120  javafx        scene                   javafx.scene.layout.Background   \n",
       "140   logic      preview           org.jabref.logic.preview.PreviewLayout   \n",
       "160  javafx        scene                               javafx.scene.Group   \n",
       "180      io       github                         io.github.adr.linked.ADR   \n",
       "200  javafx        scene                               javafx.scene.Scene   \n",
       "\n",
       "          expert             sub_expert  \n",
       "20   Application  Application Subdomain  \n",
       "40   Application  Application Subdomain  \n",
       "60   Application  Application Subdomain  \n",
       "80   Application  Application Subdomain  \n",
       "100  Application  Application Subdomain  \n",
       "120  Application  Application Subdomain  \n",
       "140  Application  Application Subdomain  \n",
       "160  Application  Application Subdomain  \n",
       "180  Application  Application Subdomain  \n",
       "200  Application  Application Subdomain  "
      ]
     },
     "execution_count": 32,
     "metadata": {},
     "output_type": "execute_result"
    }
   ],
   "source": [
    "test_labeled"
   ]
  },
  {
   "cell_type": "code",
   "execution_count": 33,
   "id": "d875bea0",
   "metadata": {
    "scrolled": true
   },
   "outputs": [],
   "source": [
    "test_labeled.to_csv(\"./data/output/testlabels.csv\", header=False, index=False)"
   ]
  },
  {
   "cell_type": "markdown",
   "id": "595292d6",
   "metadata": {},
   "source": [
    "### LLM Calls"
   ]
  },
  {
   "cell_type": "code",
   "execution_count": 34,
   "id": "737efe6d",
   "metadata": {},
   "outputs": [],
   "source": [
    "llm = ChatOpenAI(model = \"gpt-4o-mini-2024-07-18\", temperature=0, api_key=api_key)"
   ]
  },
  {
   "cell_type": "code",
   "execution_count": 35,
   "id": "51dfbcba",
   "metadata": {},
   "outputs": [],
   "source": [
    "info = {\"overall_tokens\": 0, \"errors\": 0} #using dict gets around global variable issues\n",
    "\n",
    "def domain_call(api_name, printing):\n",
    "    prompt = domain_prompt % api_name\n",
    "    response = llm.invoke(prompt)\n",
    "    \n",
    "    if(printing):\n",
    "        meta_data = response.usage_metadata\n",
    "        #print(\"prompt: \" + prompt)\n",
    "        print(\"api name: \" + api_name)\n",
    "        print(\"label: \" + response.content)\n",
    "        print(\"output tokens: \" + str(meta_data['output_tokens']))\n",
    "        print(\"total tokens: \" + str(meta_data['total_tokens']))\n",
    "        print()\n",
    "        \n",
    "    info['overall_tokens'] += response.usage_metadata['total_tokens']\n",
    "    \n",
    "    return response.content\n",
    "\n",
    "\n",
    "def subdomain_call(api_name, domain, printing):\n",
    "    if domain not in domains:\n",
    "        info['errors'] += 1\n",
    "        print(\"DOMAIN NOT FOUND. api: \" + api_name + \"domain: \" + domain)\n",
    "        return \"DomainError\"\n",
    "    \n",
    "    subdomain_prompt = generate_subdomain_prompt(subdomain_base_prompt, domain)\n",
    "    prompt = subdomain_prompt % api_name\n",
    "    response = llm.invoke(prompt)\n",
    "    \n",
    "    if(printing):\n",
    "        meta_data = response.usage_metadata\n",
    "        #print(\"prompt: \" + prompt)\n",
    "        print(\"api name: \" + api_name)\n",
    "        print(\"domain: \" + domain)\n",
    "        print(\"subdomain: \" + response.content)\n",
    "        print(\"output tokens: \" + str(meta_data['output_tokens']))\n",
    "        print(\"total tokens: \" + str(meta_data['total_tokens']))\n",
    "        print()\n",
    "        \n",
    "    info['overall_tokens'] += response.usage_metadata['total_tokens']\n",
    "    \n",
    "    return response.content\n",
    "\n",
    "\n",
    "def generate_labels(small_df, printing=True):\n",
    "    df = small_df.head(10) #ensures small size\n",
    "    \n",
    "    info['overall_tokens'] = 0 #reset info\n",
    "    info['errors'] = 0\n",
    "    \n",
    "    #make llm calls\n",
    "    df.loc[:, 'expert'] = df['api_name_fk'].apply(domain_call, printing=printing)\n",
    "    df.loc[:, 'sub_expert'] = df.apply(lambda row: subdomain_call(row['api_name_fk'], row['expert'], printing), axis=1)\n",
    "    \n",
    "    print(\"Finished.\")\n",
    "    print(\"Tokens used overall: \" + str(info['overall_tokens']))\n",
    "    print(\"Errors encountered: \" + str(info['errors']))\n",
    "    print(\"Model: \" + llm.model_name)\n",
    "    \n",
    "    return df"
   ]
  },
  {
   "cell_type": "code",
   "execution_count": 36,
   "id": "943cf86d",
   "metadata": {
    "scrolled": true
   },
   "outputs": [
    {
     "name": "stdout",
     "output_type": "stream",
     "text": [
      "api name: org.jabref.gui.preferences.JabRefGuiPreferences\n",
      "label: User Interface\n",
      "output tokens: 2\n",
      "total tokens: 123\n",
      "\n",
      "api name: dev.langchain4j.data.document.DefaultDocument\n",
      "label: Data Structure\n",
      "output tokens: 2\n",
      "total tokens: 121\n",
      "\n",
      "api name: org.jabref.logic.l10n.Localization\n",
      "label: Internationalization\n",
      "output tokens: 2\n",
      "total tokens: 121\n",
      "\n",
      "api name: java.util.Optional\n",
      "label: Utility\n",
      "output tokens: 1\n",
      "total tokens: 114\n",
      "\n",
      "api name: javafx.scene.input.ClipboardContent\n",
      "label: User Interface\n",
      "output tokens: 2\n",
      "total tokens: 119\n",
      "\n",
      "api name: javafx.scene.layout.Background\n",
      "label: User Interface\n",
      "output tokens: 2\n",
      "total tokens: 117\n",
      "\n",
      "api name: org.jabref.logic.preview.PreviewLayout\n",
      "label: User Interface\n",
      "output tokens: 2\n",
      "total tokens: 121\n",
      "\n",
      "api name: javafx.scene.Group\n",
      "label: User Interface\n",
      "output tokens: 2\n",
      "total tokens: 116\n",
      "\n",
      "api name: io.github.adr.linked.ADR\n",
      "label: Utility\n",
      "output tokens: 1\n",
      "total tokens: 119\n",
      "\n",
      "api name: javafx.scene.Scene\n",
      "label: User Interface\n",
      "output tokens: 2\n",
      "total tokens: 116\n",
      "\n",
      "api name: org.jabref.gui.preferences.JabRefGuiPreferences\n",
      "domain: User Interface\n",
      "subdomain: Interaction Design\n",
      "output tokens: 2\n",
      "total tokens: 61\n",
      "\n",
      "api name: dev.langchain4j.data.document.DefaultDocument\n",
      "domain: Data Structure\n",
      "subdomain: Data Manipulation\n",
      "output tokens: 3\n",
      "total tokens: 63\n",
      "\n",
      "api name: org.jabref.logic.l10n.Localization\n",
      "domain: Internationalization\n",
      "subdomain: Localization\n",
      "output tokens: 1\n",
      "total tokens: 66\n",
      "\n",
      "api name: java.util.Optional\n",
      "domain: Utility\n",
      "subdomain: Data Conversion\n",
      "output tokens: 2\n",
      "total tokens: 54\n",
      "\n",
      "api name: javafx.scene.input.ClipboardContent\n",
      "domain: User Interface\n",
      "subdomain: Interaction Design\n",
      "output tokens: 2\n",
      "total tokens: 57\n",
      "\n",
      "api name: javafx.scene.layout.Background\n",
      "domain: User Interface\n",
      "subdomain: Layout Design\n",
      "output tokens: 2\n",
      "total tokens: 55\n",
      "\n",
      "api name: org.jabref.logic.preview.PreviewLayout\n",
      "domain: User Interface\n",
      "subdomain: Layout Design\n",
      "output tokens: 2\n",
      "total tokens: 59\n",
      "\n",
      "api name: javafx.scene.Group\n",
      "domain: User Interface\n",
      "subdomain: Layout Design\n",
      "output tokens: 2\n",
      "total tokens: 54\n",
      "\n",
      "api name: io.github.adr.linked.ADR\n",
      "domain: Utility\n",
      "subdomain: Data Conversion\n",
      "output tokens: 2\n",
      "total tokens: 59\n",
      "\n",
      "api name: javafx.scene.Scene\n",
      "domain: User Interface\n",
      "subdomain: Layout Design\n",
      "output tokens: 2\n",
      "total tokens: 54\n",
      "\n",
      "Finished.\n",
      "Tokens used overall: 1769\n",
      "Errors encountered: 0\n",
      "Model: gpt-4o-mini-2024-07-18\n"
     ]
    }
   ],
   "source": [
    "labeled = generate_labels(small_df)"
   ]
  },
  {
   "cell_type": "code",
   "execution_count": 37,
   "id": "e81678e8",
   "metadata": {},
   "outputs": [
    {
     "data": {
      "text/html": [
       "<div>\n",
       "<style scoped>\n",
       "    .dataframe tbody tr th:only-of-type {\n",
       "        vertical-align: middle;\n",
       "    }\n",
       "\n",
       "    .dataframe tbody tr th {\n",
       "        vertical-align: top;\n",
       "    }\n",
       "\n",
       "    .dataframe thead th {\n",
       "        text-align: right;\n",
       "    }\n",
       "</style>\n",
       "<table border=\"1\" class=\"dataframe\">\n",
       "  <thead>\n",
       "    <tr style=\"text-align: right;\">\n",
       "      <th></th>\n",
       "      <th>general</th>\n",
       "      <th>specific</th>\n",
       "      <th>api_name_fk</th>\n",
       "      <th>expert</th>\n",
       "      <th>sub_expert</th>\n",
       "    </tr>\n",
       "  </thead>\n",
       "  <tbody>\n",
       "    <tr>\n",
       "      <th>20</th>\n",
       "      <td>gui</td>\n",
       "      <td>preferences</td>\n",
       "      <td>org.jabref.gui.preferences.JabRefGuiPreferences</td>\n",
       "      <td>User Interface</td>\n",
       "      <td>Interaction Design</td>\n",
       "    </tr>\n",
       "    <tr>\n",
       "      <th>40</th>\n",
       "      <td>dev</td>\n",
       "      <td>langchain4j</td>\n",
       "      <td>dev.langchain4j.data.document.DefaultDocument</td>\n",
       "      <td>Data Structure</td>\n",
       "      <td>Data Manipulation</td>\n",
       "    </tr>\n",
       "    <tr>\n",
       "      <th>60</th>\n",
       "      <td>logic</td>\n",
       "      <td>l10n</td>\n",
       "      <td>org.jabref.logic.l10n.Localization</td>\n",
       "      <td>Internationalization</td>\n",
       "      <td>Localization</td>\n",
       "    </tr>\n",
       "    <tr>\n",
       "      <th>80</th>\n",
       "      <td>util</td>\n",
       "      <td>util</td>\n",
       "      <td>java.util.Optional</td>\n",
       "      <td>Utility</td>\n",
       "      <td>Data Conversion</td>\n",
       "    </tr>\n",
       "    <tr>\n",
       "      <th>100</th>\n",
       "      <td>javafx</td>\n",
       "      <td>scene</td>\n",
       "      <td>javafx.scene.input.ClipboardContent</td>\n",
       "      <td>User Interface</td>\n",
       "      <td>Interaction Design</td>\n",
       "    </tr>\n",
       "    <tr>\n",
       "      <th>120</th>\n",
       "      <td>javafx</td>\n",
       "      <td>scene</td>\n",
       "      <td>javafx.scene.layout.Background</td>\n",
       "      <td>User Interface</td>\n",
       "      <td>Layout Design</td>\n",
       "    </tr>\n",
       "    <tr>\n",
       "      <th>140</th>\n",
       "      <td>logic</td>\n",
       "      <td>preview</td>\n",
       "      <td>org.jabref.logic.preview.PreviewLayout</td>\n",
       "      <td>User Interface</td>\n",
       "      <td>Layout Design</td>\n",
       "    </tr>\n",
       "    <tr>\n",
       "      <th>160</th>\n",
       "      <td>javafx</td>\n",
       "      <td>scene</td>\n",
       "      <td>javafx.scene.Group</td>\n",
       "      <td>User Interface</td>\n",
       "      <td>Layout Design</td>\n",
       "    </tr>\n",
       "    <tr>\n",
       "      <th>180</th>\n",
       "      <td>io</td>\n",
       "      <td>github</td>\n",
       "      <td>io.github.adr.linked.ADR</td>\n",
       "      <td>Utility</td>\n",
       "      <td>Data Conversion</td>\n",
       "    </tr>\n",
       "    <tr>\n",
       "      <th>200</th>\n",
       "      <td>javafx</td>\n",
       "      <td>scene</td>\n",
       "      <td>javafx.scene.Scene</td>\n",
       "      <td>User Interface</td>\n",
       "      <td>Layout Design</td>\n",
       "    </tr>\n",
       "  </tbody>\n",
       "</table>\n",
       "</div>"
      ],
      "text/plain": [
       "    general     specific                                      api_name_fk  \\\n",
       "20      gui  preferences  org.jabref.gui.preferences.JabRefGuiPreferences   \n",
       "40      dev  langchain4j    dev.langchain4j.data.document.DefaultDocument   \n",
       "60    logic         l10n               org.jabref.logic.l10n.Localization   \n",
       "80     util         util                               java.util.Optional   \n",
       "100  javafx        scene              javafx.scene.input.ClipboardContent   \n",
       "120  javafx        scene                   javafx.scene.layout.Background   \n",
       "140   logic      preview           org.jabref.logic.preview.PreviewLayout   \n",
       "160  javafx        scene                               javafx.scene.Group   \n",
       "180      io       github                         io.github.adr.linked.ADR   \n",
       "200  javafx        scene                               javafx.scene.Scene   \n",
       "\n",
       "                   expert          sub_expert  \n",
       "20         User Interface  Interaction Design  \n",
       "40         Data Structure   Data Manipulation  \n",
       "60   Internationalization        Localization  \n",
       "80                Utility     Data Conversion  \n",
       "100        User Interface  Interaction Design  \n",
       "120        User Interface       Layout Design  \n",
       "140        User Interface       Layout Design  \n",
       "160        User Interface       Layout Design  \n",
       "180               Utility     Data Conversion  \n",
       "200        User Interface       Layout Design  "
      ]
     },
     "execution_count": 37,
     "metadata": {},
     "output_type": "execute_result"
    }
   ],
   "source": [
    "labeled"
   ]
  },
  {
   "cell_type": "code",
   "execution_count": 38,
   "id": "38f68ea4",
   "metadata": {},
   "outputs": [],
   "source": [
    "labeled.to_csv(\"./data/output/small_labels.csv\", header=False, index=False)"
   ]
  },
  {
   "cell_type": "markdown",
   "id": "5eaf9d0d",
   "metadata": {},
   "source": [
    "Make sure this .csv can be imported to PostgreSQL."
   ]
  }
 ],
 "metadata": {
  "kernelspec": {
   "display_name": "Python 3 (ipykernel)",
   "language": "python",
   "name": "python3"
  },
  "language_info": {
   "codemirror_mode": {
    "name": "ipython",
    "version": 3
   },
   "file_extension": ".py",
   "mimetype": "text/x-python",
   "name": "python",
   "nbconvert_exporter": "python",
   "pygments_lexer": "ipython3",
   "version": "3.11.5"
  }
 },
 "nbformat": 4,
 "nbformat_minor": 5
}
